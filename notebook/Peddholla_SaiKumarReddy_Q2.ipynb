{
 "cells": [
  {
   "cell_type": "markdown",
   "metadata": {},
   "source": [
    "- Name: Sai Kumar Reddy Peddholla\n",
    "- USC ID: 5978435849\n",
    "- GitHub: peddholl"
   ]
  },
  {
   "cell_type": "code",
   "execution_count": 4,
   "metadata": {
    "executionInfo": {
     "elapsed": 3980,
     "status": "ok",
     "timestamp": 1702201790673,
     "user": {
      "displayName": "Rishi Kiran Reddy Nareddy",
      "userId": "13873111593550746672"
     },
     "user_tz": 480
    },
    "id": "FSvo4LUlbwXe"
   },
   "outputs": [],
   "source": [
    "import os\n",
    "import os.path as op\n",
    "import json\n",
    "from pathlib import Path\n",
    "import shutil\n",
    "import logging\n",
    "import numpy as np\n",
    "from tqdm import tqdm\n",
    "from skimage import io\n",
    "from sklearn.metrics import classification_report\n",
    "from tensorflow.keras.callbacks import EarlyStopping\n",
    "import random\n",
    "import tensorflow as tf\n",
    "from PIL import Image\n",
    "from tensorflow.keras.applications import EfficientNetB0, ResNet50, VGG16\n",
    "from tensorflow.keras.layers import Dense, GlobalAveragePooling2D, Dropout, BatchNormalization\n",
    "from tensorflow.keras.models import Model\n",
    "from tensorflow.keras.optimizers import Adam\n",
    "from tensorflow.keras.preprocessing.image import ImageDataGenerator\n",
    "import numpy as np\n",
    "from tensorflow.keras import layers\n",
    "from sklearn.metrics import precision_score, recall_score, f1_score"
   ]
  },
  {
   "cell_type": "code",
   "execution_count": 2,
   "metadata": {
    "colab": {
     "base_uri": "https://localhost:8080/"
    },
    "executionInfo": {
     "elapsed": 10210,
     "status": "ok",
     "timestamp": 1702201778823,
     "user": {
      "displayName": "Rishi Kiran Reddy Nareddy",
      "userId": "13873111593550746672"
     },
     "user_tz": 480
    },
    "id": "iCGFw50Hd54n",
    "outputId": "9cd4b170-1b30-4ee5-938f-a6a294ccf126"
   },
   "outputs": [
    {
     "name": "stdout",
     "output_type": "stream",
     "text": [
      "Drive already mounted at /content/drive; to attempt to forcibly remount, call drive.mount(\"/content/drive\", force_remount=True).\n"
     ]
    }
   ],
   "source": [
    "from google.colab import drive\n",
    "drive.mount('/content/drive')"
   ]
  },
  {
   "cell_type": "code",
   "execution_count": 5,
   "metadata": {
    "executionInfo": {
     "elapsed": 164,
     "status": "ok",
     "timestamp": 1702201792451,
     "user": {
      "displayName": "Rishi Kiran Reddy Nareddy",
      "userId": "13873111593550746672"
     },
     "user_tz": 480
    },
    "id": "NHRUMkCaZTE7"
   },
   "outputs": [],
   "source": [
    "# Logging configuration\n",
    "logging.basicConfig(level=logging.INFO,\n",
    "                    datefmt='%H:%M:%S',\n",
    "                    format='%(asctime)s | %(levelname)-5s | %(module)-15s | %(message)s')\n",
    "\n",
    "IMAGE_SIZE = (299, 299)  # All images contained in this dataset are 299x299 (originally, to match Inception v3 input size)\n",
    "SEED = 17\n",
    "\n",
    "# Head directory containing all image subframes. Update with the relative path of your data directory\n",
    "data_head_dir = Path('/content/data')\n",
    "\n",
    "# Find all subframe directories\n",
    "subdirs = [Path(subdir.stem) for subdir in data_head_dir.iterdir() if subdir.is_dir()]\n",
    "src_image_ids = ['_'.join(a_path.name.split('_')[:3]) for a_path in subdirs]"
   ]
  },
  {
   "cell_type": "code",
   "execution_count": 6,
   "metadata": {
    "executionInfo": {
     "elapsed": 1084,
     "status": "ok",
     "timestamp": 1702201835934,
     "user": {
      "displayName": "Rishi Kiran Reddy Nareddy",
      "userId": "13873111593550746672"
     },
     "user_tz": 480
    },
    "id": "yIb9svVnZsgS"
   },
   "outputs": [],
   "source": [
    "# Load train/val/test subframe IDs\n",
    "def load_text_ids(file_path):\n",
    "    \"\"\"Simple helper to load all lines from a text file\"\"\"\n",
    "    with open(file_path, 'r') as f:\n",
    "        lines = [line.strip() for line in f.readlines()]\n",
    "    return lines\n",
    "\n",
    "# Load the subframe names for the three data subsets\n",
    "train_ids = load_text_ids('/content/drive/MyDrive/train_source_images.txt')\n",
    "validate_ids = load_text_ids('/content/drive/MyDrive/val_source_images.txt')\n",
    "test_ids = load_text_ids('/content/drive/MyDrive/test_source_images.txt')\n",
    "\n",
    "# Generate a list containing the dataset split for the matching subdirectory names\n",
    "subdir_splits = []\n",
    "for src_id in src_image_ids:\n",
    "    if src_id in train_ids:\n",
    "        subdir_splits.append('train')\n",
    "    elif src_id in validate_ids:\n",
    "        subdir_splits.append('validate')\n",
    "    elif(src_id in test_ids):\n",
    "        subdir_splits.append('test')\n",
    "    else:\n",
    "        logging.warning(f'{src_id}: Did not find designated split in train/validate/test list.')\n",
    "        subdir_splits.append(None)"
   ]
  },
  {
   "cell_type": "code",
   "execution_count": 7,
   "metadata": {
    "executionInfo": {
     "elapsed": 3234,
     "status": "ok",
     "timestamp": 1702201841571,
     "user": {
      "displayName": "Rishi Kiran Reddy Nareddy",
      "userId": "13873111593550746672"
     },
     "user_tz": 480
    },
    "id": "ldFZb98UZsqD"
   },
   "outputs": [],
   "source": [
    "def load_and_preprocess(img_loc, label):\n",
    "\n",
    "    def _inner_function(img_loc, label):\n",
    "\n",
    "        # Convert tensor to native type\n",
    "        img_loc_str = img_loc.numpy().decode('utf-8')\n",
    "        label_str = label.numpy().decode('utf-8')\n",
    "\n",
    "        img = Image.open(img_loc_str).convert('RGB')\n",
    "\n",
    "\n",
    "        return img, 1 if label_str=='frost' else 0\n",
    "\n",
    "    # Wrap the Python function\n",
    "    X, y = tf.py_function(_inner_function, [img_loc, label], [tf.float32, tf.int64])\n",
    "\n",
    "    return X, y\n",
    "\n",
    "def load_subdir_data(dir_path, image_size, seed=None):\n",
    "\n",
    "    \"\"\"Helper to create a TF dataset from each image subdirectory\"\"\"\n",
    "\n",
    "    # Grab only the classes that (1) we want to keep and (2) exist in this directory\n",
    "    tile_dir = dir_path / Path('tiles')\n",
    "    label_dir = dir_path /Path('labels')\n",
    "\n",
    "    loc_list = []\n",
    "\n",
    "    for folder in os.listdir(tile_dir):\n",
    "        if os.path.isdir(os.path.join(tile_dir, folder)):\n",
    "            for file in os.listdir(os.path.join(tile_dir, folder)):\n",
    "                if file.endswith(\".png\"):\n",
    "                    loc_list.append((os.path.join(os.path.join(tile_dir, folder), file), folder))\n",
    "\n",
    "    return loc_list\n",
    "\n",
    "# Loop over all subframes, loading each into a list\n",
    "tf_data_train, tf_data_test, tf_data_val = [], [], []\n",
    "tf_dataset_train, tf_dataset_test, tf_dataset_val = [], [], []\n",
    "\n",
    "# Update the batch and buffer size as per your model requirements\n",
    "buffer_size = 64\n",
    "batch_size = 32\n",
    "\n",
    "for subdir, split in zip(subdirs, subdir_splits):\n",
    "    full_path = data_head_dir / subdir\n",
    "    if split=='validate':\n",
    "        tf_data_val.extend(load_subdir_data(full_path, IMAGE_SIZE, SEED))\n",
    "    elif split=='train':\n",
    "        tf_data_train.extend(load_subdir_data(full_path, IMAGE_SIZE, SEED))\n",
    "    elif split=='test':\n",
    "        tf_data_test.extend(load_subdir_data(full_path, IMAGE_SIZE, SEED))\n",
    "\n",
    "random.shuffle(tf_data_train)\n",
    "img_list, label_list = zip(*tf_data_train)\n",
    "img_list_t = tf.convert_to_tensor(img_list)\n",
    "lb_list_t = tf.convert_to_tensor(label_list)\n",
    "\n",
    "tf_dataset_train = tf.data.Dataset.from_tensor_slices((img_list_t, lb_list_t))\n",
    "tf_dataset_train = tf_dataset_train.map(load_and_preprocess, num_parallel_calls=tf.data.experimental.AUTOTUNE)\n",
    "tf_dataset_train = tf_dataset_train.shuffle(buffer_size=buffer_size).batch(batch_size)\n",
    "\n",
    "random.shuffle(tf_data_val)\n",
    "img_list, label_list = zip(*tf_data_val)\n",
    "img_list_t = tf.convert_to_tensor(img_list)\n",
    "lb_list_t = tf.convert_to_tensor(label_list)\n",
    "\n",
    "tf_dataset_val = tf.data.Dataset.from_tensor_slices((img_list_t, lb_list_t))\n",
    "tf_dataset_val = tf_dataset_val.map(load_and_preprocess, num_parallel_calls=tf.data.experimental.AUTOTUNE)\n",
    "tf_dataset_val = tf_dataset_val.shuffle(buffer_size=buffer_size).batch(batch_size)\n",
    "\n",
    "random.shuffle(tf_data_test)\n",
    "img_list, label_list = zip(*tf_data_train)\n",
    "img_list_t = tf.convert_to_tensor(img_list)\n",
    "lb_list_t = tf.convert_to_tensor(label_list)\n",
    "\n",
    "tf_dataset_test = tf.data.Dataset.from_tensor_slices((img_list_t, lb_list_t))\n",
    "tf_dataset_test = tf_dataset_test.map(load_and_preprocess, num_parallel_calls=tf.data.experimental.AUTOTUNE)\n",
    "tf_dataset_test = tf_dataset_test.shuffle(buffer_size=buffer_size).batch(batch_size)"
   ]
  },
  {
   "cell_type": "code",
   "execution_count": 8,
   "metadata": {
    "executionInfo": {
     "elapsed": 240,
     "status": "ok",
     "timestamp": 1702201845305,
     "user": {
      "displayName": "Rishi Kiran Reddy Nareddy",
      "userId": "13873111593550746672"
     },
     "user_tz": 480
    },
    "id": "75yc3ddXZss8"
   },
   "outputs": [],
   "source": [
    "def one_hot_encode(label, num_classes=2):\n",
    "    return tf.one_hot(label, depth=num_classes)\n",
    "\n",
    "def set_image_shape(image, target_shape=(299, 299, 3)):\n",
    "    image.set_shape((None,) + target_shape)\n",
    "    return image\n",
    "\n",
    "def apply_augmentation(image):\n",
    "    data_aug = tf.keras.Sequential([\n",
    "        layers.experimental.preprocessing.RandomFlip(\"horizontal_and_vertical\"),\n",
    "        layers.experimental.preprocessing.RandomRotation(0.2),\n",
    "        layers.experimental.preprocessing.RandomZoom(0.2),\n",
    "        layers.experimental.preprocessing.RandomContrast(0.2),\n",
    "        layers.experimental.preprocessing.RandomTranslation(0.2, 0.2),\n",
    "    ])\n",
    "    return data_aug(image, training=True)\n",
    "\n",
    "def preprocess_train_data(image, label):\n",
    "    label = one_hot_encode(label)\n",
    "    image = set_image_shape(image)\n",
    "    return image, label\n",
    "\n",
    "def augment_train_data(image, label):\n",
    "    image = apply_augmentation(image)\n",
    "    return image, label\n",
    "\n",
    "tf_dataset_train = tf_dataset_train.map(preprocess_train_data, num_parallel_calls=tf.data.experimental.AUTOTUNE)\n",
    "tf_dataset_val = tf_dataset_val.map(preprocess_train_data, num_parallel_calls=tf.data.experimental.AUTOTUNE)\n",
    "tf_dataset_test = tf_dataset_test.map(preprocess_train_data, num_parallel_calls=tf.data.experimental.AUTOTUNE)\n",
    "\n",
    "tf_dataset_train_augmented = tf_dataset_train.map(set_image_shape, num_parallel_calls=tf.data.experimental.AUTOTUNE)\n",
    "tf_dataset_train_aug = tf_dataset_train_augmented.map(augment_train_data, num_parallel_calls=tf.data.experimental.AUTOTUNE)"
   ]
  },
  {
   "cell_type": "markdown",
   "metadata": {},
   "source": [
    "### EfficientNetB0 Model"
   ]
  },
  {
   "cell_type": "code",
   "execution_count": 13,
   "metadata": {
    "colab": {
     "base_uri": "https://localhost:8080/"
    },
    "executionInfo": {
     "elapsed": 2542,
     "status": "ok",
     "timestamp": 1702201927652,
     "user": {
      "displayName": "Rishi Kiran Reddy Nareddy",
      "userId": "13873111593550746672"
     },
     "user_tz": 480
    },
    "id": "Gb3wj3JaZs6O",
    "outputId": "06f29240-64dd-4ad9-f0df-25d6d06f0ae8"
   },
   "outputs": [
    {
     "name": "stdout",
     "output_type": "stream",
     "text": [
      "Downloading data from https://storage.googleapis.com/keras-applications/efficientnetb0_notop.h5\n",
      "16705208/16705208 [==============================] - 0s 0us/step\n"
     ]
    }
   ],
   "source": [
    "from tensorflow.keras.applications import EfficientNetB0\n",
    "from tensorflow.keras.layers import GlobalAveragePooling2D, Dense, BatchNormalization, Dropout\n",
    "from tensorflow.keras.models import Model\n",
    "from tensorflow.keras.optimizers import Adam\n",
    "\n",
    "base_model = EfficientNetB0(weights='imagenet', include_top=False)\n",
    "\n",
    "for layer in base_model.layers[:-4]:\n",
    "    layer.trainable = False\n",
    "\n",
    "def create_custom_model(base_model):\n",
    "    x = base_model.output\n",
    "    x = GlobalAveragePooling2D()(x)\n",
    "    x = Dense(64, activation='relu')(x)\n",
    "    x = BatchNormalization()(x)\n",
    "    x = Dropout(0.3)(x)\n",
    "    predictions = Dense(2, activation='softmax')(x)\n",
    "    custom_model = Model(inputs=base_model.input, outputs=predictions)\n",
    "    return custom_model\n",
    "\n",
    "custom_efficientnet_model = create_custom_model(base_model)\n",
    "\n",
    "adam_optimizer = Adam(learning_rate=0.001)\n",
    "custom_efficientnet_model.compile(optimizer=adam_optimizer, loss='categorical_crossentropy', metrics=['accuracy'])"
   ]
  },
  {
   "cell_type": "markdown",
   "metadata": {},
   "source": [
    "### EfficientNetB0 Model Training"
   ]
  },
  {
   "cell_type": "code",
   "execution_count": 16,
   "metadata": {
    "colab": {
     "base_uri": "https://localhost:8080/",
     "height": 536
    },
    "executionInfo": {
     "elapsed": 4009633,
     "status": "error",
     "timestamp": 1702205950892,
     "user": {
      "displayName": "Rishi Kiran Reddy Nareddy",
      "userId": "13873111593550746672"
     },
     "user_tz": 480
    },
    "id": "vtFfTBToZtCT",
    "outputId": "38719bd3-7da7-40d2-9403-25614f15a617"
   },
   "outputs": [
    {
     "name": "stdout",
     "output_type": "stream",
     "text": [
      "Epoch 1/12\n",
      "442/442 [==============================] - 520s 1s/step - loss: 0.0860 - accuracy: 0.9703 - val_loss: 1.5939 - val_accuracy: 0.6225\n",
      "Epoch 2/12\n",
      "442/442 [==============================] - 498s 1s/step - loss: 0.0413 - accuracy: 0.9853 - val_loss: 1.4464 - val_accuracy: 0.6798\n",
      "Epoch 3/12\n",
      "442/442 [==============================] - 496s 1s/step - loss: 0.0347 - accuracy: 0.9892 - val_loss: 1.4310 - val_accuracy: 0.7211\n",
      "Epoch 4/12\n",
      "442/442 [==============================] - 490s 1s/step - loss: 0.0274 - accuracy: 0.9902 - val_loss: 2.0484 - val_accuracy: 0.5591\n",
      "Epoch 5/12\n",
      "442/442 [==============================] - 495s 1s/step - loss: 0.0236 - accuracy: 0.9921 - val_loss: 2.9051 - val_accuracy: 0.5800\n",
      "Epoch 6/12\n",
      "442/442 [==============================] - 492s 1s/step - loss: 0.0257 - accuracy: 0.9912 - val_loss: 2.7382 - val_accuracy: 0.6019\n",
      "Epoch 7/12\n",
      "442/442 [==============================] - 497s 1s/step - loss: 0.0217 - accuracy: 0.9922 - val_loss: 2.5996 - val_accuracy: 0.6224\n",
      "Epoch 8/12\n",
      "442/442 [==============================] - 494s 1s/step - loss: 0.0185 - accuracy: 0.9941 - val_loss: 3.6944 - val_accuracy: 0.5457\n"
     ]
    },
    {
     "ename": "NameError",
     "evalue": "ignored",
     "output_type": "error",
     "traceback": [
      "\u001b[0;31m---------------------------------------------------------------------------\u001b[0m",
      "\u001b[0;31mNameError\u001b[0m                                 Traceback (most recent call last)",
      "\u001b[0;32m<ipython-input-16-774a115d1ac4>\u001b[0m in \u001b[0;36m<cell line: 9>\u001b[0;34m()\u001b[0m\n\u001b[1;32m      7\u001b[0m \u001b[0;34m\u001b[0m\u001b[0m\n\u001b[1;32m      8\u001b[0m \u001b[0;31m# Plot training & validation accuracy values\u001b[0m\u001b[0;34m\u001b[0m\u001b[0;34m\u001b[0m\u001b[0m\n\u001b[0;32m----> 9\u001b[0;31m \u001b[0mplt\u001b[0m\u001b[0;34m.\u001b[0m\u001b[0mplot\u001b[0m\u001b[0;34m(\u001b[0m\u001b[0mhistory\u001b[0m\u001b[0;34m.\u001b[0m\u001b[0mhistory\u001b[0m\u001b[0;34m[\u001b[0m\u001b[0;34m'accuracy'\u001b[0m\u001b[0;34m]\u001b[0m\u001b[0;34m)\u001b[0m\u001b[0;34m\u001b[0m\u001b[0;34m\u001b[0m\u001b[0m\n\u001b[0m\u001b[1;32m     10\u001b[0m \u001b[0mplt\u001b[0m\u001b[0;34m.\u001b[0m\u001b[0mplot\u001b[0m\u001b[0;34m(\u001b[0m\u001b[0mhistory\u001b[0m\u001b[0;34m.\u001b[0m\u001b[0mhistory\u001b[0m\u001b[0;34m[\u001b[0m\u001b[0;34m'val_accuracy'\u001b[0m\u001b[0;34m]\u001b[0m\u001b[0;34m)\u001b[0m\u001b[0;34m\u001b[0m\u001b[0;34m\u001b[0m\u001b[0m\n\u001b[1;32m     11\u001b[0m \u001b[0mplt\u001b[0m\u001b[0;34m.\u001b[0m\u001b[0mtitle\u001b[0m\u001b[0;34m(\u001b[0m\u001b[0;34m'Model accuracy'\u001b[0m\u001b[0;34m)\u001b[0m\u001b[0;34m\u001b[0m\u001b[0;34m\u001b[0m\u001b[0m\n",
      "\u001b[0;31mNameError\u001b[0m: name 'plt' is not defined"
     ]
    }
   ],
   "source": [
    "tf_dataset_val_resized = tf_dataset_val.map(resize_images, num_parallel_calls=tf.data.experimental.AUTOTUNE)\n",
    "tf_dataset_test_resized = tf_dataset_test.map(resize_images, num_parallel_calls=tf.data.experimental.AUTOTUNE)\n",
    "epochs = 12\n",
    "batch_size = 8\n",
    "\n",
    "early_stopping = tf.keras.callbacks.EarlyStopping(patience=5, restore_best_weights=True)\n",
    "\n",
    "training_history = custom_efficientnet_model.fit(tf_dataset_train_augmented, epochs=epochs, batch_size=batch_size, validation_data=tf_dataset_val_resized, callbacks=[early_stopping])"
   ]
  },
  {
   "cell_type": "code",
   "execution_count": 17,
   "metadata": {
    "colab": {
     "base_uri": "https://localhost:8080/",
     "height": 927
    },
    "executionInfo": {
     "elapsed": 2475,
     "status": "ok",
     "timestamp": 1702206253043,
     "user": {
      "displayName": "Rishi Kiran Reddy Nareddy",
      "userId": "13873111593550746672"
     },
     "user_tz": 480
    },
    "id": "Cyp5QcA9ZWPf",
    "outputId": "cfaa0d27-eec5-4bb9-8766-3425de5aeb5d"
   },
   "outputs": [
    {
     "data": {
      "image/png": "[encoded data removed]",
      "text/plain": [
       "<Figure size 640x480 with 1 Axes>"
      ]
     },
     "metadata": {},
     "output_type": "display_data"
    },
    {
     "data": {
      "image/png": "[encoded data removed]",
      "text/plain": [
       "<Figure size 640x480 with 1 Axes>"
      ]
     },
     "metadata": {},
     "output_type": "display_data"
    }
   ],
   "source": [
    "import matplotlib.pyplot as plt\n",
    "\n",
    "plt.plot(history.history['accuracy'])\n",
    "plt.plot(history.history['val_accuracy'])\n",
    "plt.title('Model accuracy')\n",
    "plt.ylabel('Accuracy')\n",
    "plt.xlabel('Epoch')\n",
    "plt.legend(['Train', 'Validation'], loc='upper left')\n",
    "plt.show()\n",
    "\n",
    "# Plot training & validation loss values\n",
    "plt.plot(history.history['loss'])\n",
    "plt.plot(history.history['val_loss'])\n",
    "plt.title('Model loss')\n",
    "plt.ylabel('Loss')\n",
    "plt.xlabel('Epoch')\n",
    "plt.legend(['Train', 'Validation'], loc='upper left')\n",
    "plt.show()"
   ]
  },
  {
   "cell_type": "markdown",
   "metadata": {},
   "source": [
    "### Precision, Recall, and F1 score for EfficientNetB0 model."
   ]
  },
  {
   "cell_type": "code",
   "execution_count": 18,
   "metadata": {
    "colab": {
     "base_uri": "https://localhost:8080/"
    },
    "executionInfo": {
     "elapsed": 142155,
     "status": "ok",
     "timestamp": 1702206406210,
     "user": {
      "displayName": "Rishi Kiran Reddy Nareddy",
      "userId": "13873111593550746672"
     },
     "user_tz": 480
    },
    "id": "HpxrtIHnZtE6",
    "outputId": "2d68b79d-c81a-4fd0-f06c-e97bac34036e"
   },
   "outputs": [
    {
     "name": "stdout",
     "output_type": "stream",
     "text": [
      "442/442 [==============================] - 107s 241ms/step - loss: 0.0080 - accuracy: 0.9975\n"
     ]
    },
    {
     "data": {
      "text/plain": [
       "[0.00801896769553423, 0.9975210428237915]"
      ]
     },
     "execution_count": 18,
     "metadata": {},
     "output_type": "execute_result"
    }
   ],
   "source": [
    "model_efficientnet.evaluate(tf_dataset_test_reshaped)"
   ]
  },
  {
   "cell_type": "code",
   "execution_count": 19,
   "metadata": {
    "colab": {
     "base_uri": "https://localhost:8080/"
    },
    "executionInfo": {
     "elapsed": 98979,
     "status": "ok",
     "timestamp": 1702206505186,
     "user": {
      "displayName": "Rishi Kiran Reddy Nareddy",
      "userId": "13873111593550746672"
     },
     "user_tz": 480
    },
    "id": "tGCTNnInaB7f",
    "outputId": "49646f53-5a0f-46f7-fd59-e31d7d67eebd"
   },
   "outputs": [
    {
     "name": "stdout",
     "output_type": "stream",
     "text": [
      "442/442 [==============================] - 99s 220ms/step\n"
     ]
    }
   ],
   "source": [
    "predictions = model_efficientnet.predict(tf_dataset_test_reshaped)\n",
    "predicted_classes = np.argmax(predictions, axis=1)"
   ]
  },
  {
   "cell_type": "code",
   "execution_count": 21,
   "metadata": {
    "colab": {
     "base_uri": "https://localhost:8080/"
    },
    "executionInfo": {
     "elapsed": 20,
     "status": "ok",
     "timestamp": 1702206555749,
     "user": {
      "displayName": "Rishi Kiran Reddy Nareddy",
      "userId": "13873111593550746672"
     },
     "user_tz": 480
    },
    "id": "Em6LdULAaCA_",
    "outputId": "d159eec9-fee8-4a39-a292-748b9ad891f3"
   },
   "outputs": [
    {
     "name": "stdout",
     "output_type": "stream",
     "text": [
      "Precision: 0.6516731855714907\n",
      "Recall: 0.6528790682486122\n",
      "F1 Score: 0.6522755695720733\n"
     ]
    }
   ],
   "source": [
    "true_labels = np.concatenate([labels for images, labels in tf_dataset_test_resized], axis=0)\n",
    "true_labels_integer = np.argmax(true_labels, axis=1)\n",
    "\n",
    "precision = metrics.precision_score(true_labels_integer, predicted_classes)\n",
    "recall = metrics.recall_score(true_labels_integer, predicted_classes)\n",
    "f1 = metrics.f1_score(true_labels_integer, predicted_classes)\n",
    "\n",
    "print(\"Precision:\", precision)\n",
    "print(\"Recall:\", recall)\n",
    "print(\"F1 Score:\", f1)"
   ]
  },
  {
   "cell_type": "markdown",
   "metadata": {},
   "source": [
    "### ResNet50 Model"
   ]
  },
  {
   "cell_type": "code",
   "execution_count": 22,
   "metadata": {
    "colab": {
     "base_uri": "https://localhost:8080/"
    },
    "executionInfo": {
     "elapsed": 2452,
     "status": "ok",
     "timestamp": 1702206558198,
     "user": {
      "displayName": "Rishi Kiran Reddy Nareddy",
      "userId": "13873111593550746672"
     },
     "user_tz": 480
    },
    "id": "6XDciUVJaCD3",
    "outputId": "0da5d800-19bc-497e-8f51-8e291bd4e728"
   },
   "outputs": [
    {
     "name": "stdout",
     "output_type": "stream",
     "text": [
      "Downloading data from https://storage.googleapis.com/tensorflow/keras-applications/resnet/resnet50_weights_tf_dim_ordering_tf_kernels_notop.h5\n",
      "94765736/94765736 [==============================] - 1s 0us/step\n"
     ]
    }
   ],
   "source": [
    "from tensorflow.keras.applications import ResNet50\n",
    "from tensorflow.keras.layers import GlobalAveragePooling2D, Dense, BatchNormalization, Dropout\n",
    "from tensorflow.keras.models import Model\n",
    "from tensorflow.keras.optimizers import Adam\n",
    "\n",
    "base_model = ResNet50(weights='imagenet', include_top=False)\n",
    "\n",
    "for layer in base_model.layers[:-4]:\n",
    "    layer.trainable = False\n",
    "\n",
    "def create_custom_model(base_model):\n",
    "    x = base_model.output\n",
    "    x = GlobalAveragePooling2D()(x)\n",
    "    x = Dense(64, activation='relu')(x)\n",
    "    x = BatchNormalization()(x)\n",
    "    x = Dropout(0.3)(x)\n",
    "    predictions = Dense(2, activation='softmax')(x)\n",
    "    custom_model = Model(inputs=base_model.input, outputs=predictions)\n",
    "    return custom_model\n",
    "\n",
    "custom_resnet_model = create_custom_model(base_model)\n",
    "\n",
    "adam_optimizer = Adam(learning_rate=0.001)\n",
    "custom_resnet_model.compile(optimizer=adam_optimizer, loss='categorical_crossentropy', metrics=['accuracy'])"
   ]
  },
  {
   "cell_type": "markdown",
   "metadata": {},
   "source": [
    "### ResNet50 Model Training"
   ]
  },
  {
   "cell_type": "code",
   "execution_count": 23,
   "metadata": {
    "colab": {
     "base_uri": "https://localhost:8080/",
     "height": 1000
    },
    "executionInfo": {
     "elapsed": 3257090,
     "status": "ok",
     "timestamp": 1702209815285,
     "user": {
      "displayName": "Rishi Kiran Reddy Nareddy",
      "userId": "13873111593550746672"
     },
     "user_tz": 480
    },
    "id": "udTzarlaaCGd",
    "outputId": "f65587a9-231a-4eb3-8b0e-31785b1e69a3"
   },
   "outputs": [
    {
     "name": "stdout",
     "output_type": "stream",
     "text": [
      "Epoch 1/12\n",
      "442/442 [==============================] - 522s 1s/step - loss: 0.0865 - accuracy: 0.9693 - val_loss: 1.8123 - val_accuracy: 0.5291\n",
      "Epoch 2/12\n",
      "442/442 [==============================] - 506s 1s/step - loss: 0.0364 - accuracy: 0.9880 - val_loss: 2.8224 - val_accuracy: 0.4983\n",
      "Epoch 3/12\n",
      "442/442 [==============================] - 506s 1s/step - loss: 0.0319 - accuracy: 0.9890 - val_loss: 3.8354 - val_accuracy: 0.3564\n",
      "Epoch 4/12\n",
      "442/442 [==============================] - 515s 1s/step - loss: 0.0258 - accuracy: 0.9912 - val_loss: 3.0012 - val_accuracy: 0.4454\n",
      "Epoch 5/12\n",
      "442/442 [==============================] - 520s 1s/step - loss: 0.0278 - accuracy: 0.9907 - val_loss: 3.1246 - val_accuracy: 0.4300\n",
      "Epoch 6/12\n",
      "442/442 [==============================] - 531s 1s/step - loss: 0.0207 - accuracy: 0.9930 - val_loss: 3.6497 - val_accuracy: 0.4344\n"
     ]
    },
    {
     "data": {
      "image/png": "[encoded data removed]",
      "text/plain": [
       "<Figure size 640x480 with 1 Axes>"
      ]
     },
     "metadata": {},
     "output_type": "display_data"
    },
    {
     "data": {
      "image/png": "[encoded data removed]",
      "text/plain": [
       "<Figure size 640x480 with 1 Axes>"
      ]
     },
     "metadata": {},
     "output_type": "display_data"
    }
   ],
   "source": [
    "epochs = 12\n",
    "batch_size = 8\n",
    "\n",
    "early_stopping_callback = tf.keras.callbacks.EarlyStopping(patience=5, restore_best_weights=True)\n",
    "\n",
    "training_history = custom_resnet_model.fit(tf_dataset_train_aug, epochs=epochs, batch_size=batch_size, validation_data=tf_dataset_val_resized, callbacks=[early_stopping_callback])\n",
    "\n",
    "# Plot training & validation accuracy values\n",
    "plt.plot(training_history.history['accuracy'])\n",
    "plt.plot(training_history.history['val_accuracy'])\n",
    "plt.title('Model accuracy')\n",
    "plt.ylabel('Accuracy')\n",
    "plt.xlabel('Epoch')\n",
    "plt.legend(['Train', 'Validation'], loc='upper left')\n",
    "plt.show()\n",
    "\n",
    "# Plot training & validation loss values\n",
    "plt.plot(training_history.history['loss'])\n",
    "plt.plot(training_history.history['val_loss'])\n",
    "plt.title('Model loss')\n",
    "plt.ylabel('Loss')\n",
    "plt.xlabel('Epoch')\n",
    "plt.legend(['Train', 'Validation'], loc='upper left')\n",
    "plt.show()"
   ]
  },
  {
   "cell_type": "markdown",
   "metadata": {},
   "source": [
    "### Precision, Recall, and F1 score for ResNet50 model."
   ]
  },
  {
   "cell_type": "code",
   "execution_count": 24,
   "metadata": {
    "colab": {
     "base_uri": "https://localhost:8080/"
    },
    "executionInfo": {
     "elapsed": 141955,
     "status": "ok",
     "timestamp": 1702209957238,
     "user": {
      "displayName": "Rishi Kiran Reddy Nareddy",
      "userId": "13873111593550746672"
     },
     "user_tz": 480
    },
    "id": "nmQbFy0gaCJD",
    "outputId": "b76f6433-a50b-4235-fb70-cbe4730e46de"
   },
   "outputs": [
    {
     "name": "stdout",
     "output_type": "stream",
     "text": [
      "442/442 [==============================] - 136s 308ms/step - loss: 0.0302 - accuracy: 0.9891\n"
     ]
    },
    {
     "data": {
      "text/plain": [
       "[0.030197471380233765, 0.9890927076339722]"
      ]
     },
     "execution_count": 24,
     "metadata": {},
     "output_type": "execute_result"
    }
   ],
   "source": [
    "model_resnet.evaluate(tf_dataset_test_reshaped)"
   ]
  },
  {
   "cell_type": "code",
   "execution_count": 25,
   "metadata": {
    "colab": {
     "base_uri": "https://localhost:8080/"
    },
    "executionInfo": {
     "elapsed": 129118,
     "status": "ok",
     "timestamp": 1702210086354,
     "user": {
      "displayName": "Rishi Kiran Reddy Nareddy",
      "userId": "13873111593550746672"
     },
     "user_tz": 480
    },
    "id": "46mOcVE6aCLp",
    "outputId": "d76c2205-4aec-4ef5-974f-5c96aa3091ce"
   },
   "outputs": [
    {
     "name": "stdout",
     "output_type": "stream",
     "text": [
      "442/442 [==============================] - 129s 290ms/step\n"
     ]
    }
   ],
   "source": [
    "predictions = model_resnet.predict(tf_dataset_test_reshaped)\n",
    "predicted_classes = np.argmax(predictions, axis=1)"
   ]
  },
  {
   "cell_type": "code",
   "execution_count": 27,
   "metadata": {
    "colab": {
     "base_uri": "https://localhost:8080/"
    },
    "executionInfo": {
     "elapsed": 18,
     "status": "ok",
     "timestamp": 1702210168296,
     "user": {
      "displayName": "Rishi Kiran Reddy Nareddy",
      "userId": "13873111593550746672"
     },
     "user_tz": 480
    },
    "id": "5K8WbNSTaCRG",
    "outputId": "76808506-993a-43bd-8f2f-28d47885cbd5"
   },
   "outputs": [
    {
     "name": "stdout",
     "output_type": "stream",
     "text": [
      "Precision: 0.6467608062951385\n",
      "Recall: 0.6530967671710025\n",
      "F1 Score: 0.6499133448873483\n"
     ]
    }
   ],
   "source": [
    "true_labels = np.concatenate([labels for images, labels in tf_dataset_test_reshaped], axis=0)\n",
    "true_labels_integer = np.argmax(true_labels, axis=1)\n",
    "\n",
    "precision = metrics.precision_score(true_labels_integer, predicted_classes)\n",
    "recall = metrics.recall_score(true_labels_integer, predicted_classes)\n",
    "f1 = metrics.f1_score(true_labels_integer, predicted_classes)\n",
    "\n",
    "print(\"Precision:\", precision)\n",
    "print(\"Recall:\", recall)\n",
    "print(\"F1 Score:\", f1)"
   ]
  },
  {
   "cell_type": "markdown",
   "metadata": {},
   "source": [
    "### VGG16 Model"
   ]
  },
  {
   "cell_type": "code",
   "execution_count": 28,
   "metadata": {
    "colab": {
     "base_uri": "https://localhost:8080/"
    },
    "executionInfo": {
     "elapsed": 884,
     "status": "ok",
     "timestamp": 1702210169178,
     "user": {
      "displayName": "Rishi Kiran Reddy Nareddy",
      "userId": "13873111593550746672"
     },
     "user_tz": 480
    },
    "id": "aO8U33sAaQ0L",
    "outputId": "c132a40a-9044-4110-a50c-abaeea21b5e7"
   },
   "outputs": [
    {
     "name": "stdout",
     "output_type": "stream",
     "text": [
      "Downloading data from https://storage.googleapis.com/tensorflow/keras-applications/vgg16/vgg16_weights_tf_dim_ordering_tf_kernels_notop.h5\n",
      "58889256/58889256 [==============================] - 0s 0us/step\n"
     ]
    }
   ],
   "source": [
    "from tensorflow.keras.applications import VGG16\n",
    "from tensorflow.keras.layers import GlobalAveragePooling2D, Dense, BatchNormalization, Dropout\n",
    "from tensorflow.keras.models import Model\n",
    "from tensorflow.keras.optimizers import Adam\n",
    "\n",
    "base_model = VGG16(weights='imagenet', include_top=False)\n",
    "for layer in base_model.layers[:-4]:\n",
    "    layer.trainable = False\n",
    "\n",
    "def create_custom_model(base_model):\n",
    "    x = base_model.output\n",
    "    x = GlobalAveragePooling2D()(x)\n",
    "    x = Dense(64, activation='relu')(x)\n",
    "    x = BatchNormalization()(x)\n",
    "    x = Dropout(0.3)(x)\n",
    "    predictions = Dense(2, activation='softmax')(x)\n",
    "    custom_model = Model(inputs=base_model.input, outputs=predictions)\n",
    "    return custom_model\n",
    "\n",
    "custom_vgg_model = create_custom_model(base_model)\n",
    "\n",
    "adam_optimizer = Adam(learning_rate=0.001)\n",
    "custom_vgg_model.compile(optimizer=adam_optimizer, loss='categorical_crossentropy', metrics=['accuracy'])"
   ]
  },
  {
   "cell_type": "markdown",
   "metadata": {},
   "source": [
    "### VGG16 Model Training"
   ]
  },
  {
   "cell_type": "code",
   "execution_count": 29,
   "metadata": {
    "colab": {
     "base_uri": "https://localhost:8080/",
     "height": 1000
    },
    "executionInfo": {
     "elapsed": 3824080,
     "status": "ok",
     "timestamp": 1702213993257,
     "user": {
      "displayName": "Rishi Kiran Reddy Nareddy",
      "userId": "13873111593550746672"
     },
     "user_tz": 480
    },
    "id": "F_U5_cJ5aQ3D",
    "outputId": "c0745300-375e-44ea-c2f4-3edf4f2c0020"
   },
   "outputs": [
    {
     "name": "stdout",
     "output_type": "stream",
     "text": [
      "Epoch 1/12\n",
      "442/442 [==============================] - 634s 1s/step - loss: 0.0903 - accuracy: 0.9686 - val_loss: 2.1941 - val_accuracy: 0.4850\n",
      "Epoch 2/12\n",
      "442/442 [==============================] - 571s 1s/step - loss: 0.0405 - accuracy: 0.9865 - val_loss: 2.9811 - val_accuracy: 0.4799\n",
      "Epoch 3/12\n",
      "442/442 [==============================] - 573s 1s/step - loss: 0.0324 - accuracy: 0.9891 - val_loss: 3.5215 - val_accuracy: 0.3698\n",
      "Epoch 4/12\n",
      "442/442 [==============================] - 627s 1s/step - loss: 0.0319 - accuracy: 0.9894 - val_loss: 3.2691 - val_accuracy: 0.3516\n",
      "Epoch 5/12\n",
      "442/442 [==============================] - 624s 1s/step - loss: 0.0199 - accuracy: 0.9936 - val_loss: 2.9702 - val_accuracy: 0.5157\n",
      "Epoch 6/12\n",
      "442/442 [==============================] - 630s 1s/step - loss: 0.0235 - accuracy: 0.9938 - val_loss: 2.7460 - val_accuracy: 0.5107\n"
     ]
    },
    {
     "data": {
      "image/png": "[encoded data removed]",
      "text/plain": [
       "<Figure size 640x480 with 1 Axes>"
      ]
     },
     "metadata": {},
     "output_type": "display_data"
    },
    {
     "data": {
      "image/png": "[encoded data removed]",
      "text/plain": [
       "<Figure size 640x480 with 1 Axes>"
      ]
     },
     "metadata": {},
     "output_type": "display_data"
    }
   ],
   "source": [
    "epochs = 12\n",
    "batch_size = 8\n",
    "\n",
    "early_stopping_callback = tf.keras.callbacks.EarlyStopping(patience=5, restore_best_weights=True)\n",
    "\n",
    "training_history = custom_vgg_model.fit(tf_dataset_train_aug, epochs=epochs, batch_size=batch_size, validation_data=tf_dataset_val_reshaped, callbacks=[early_stopping_callback])\n",
    "\n",
    "# Plot training & validation accuracy values\n",
    "plt.plot(training_history.history['accuracy'])\n",
    "plt.plot(training_history.history['val_accuracy'])\n",
    "plt.title('Model accuracy')\n",
    "plt.ylabel('Accuracy')\n",
    "plt.xlabel('Epoch')\n",
    "plt.legend(['Train', 'Validation'], loc='upper left')\n",
    "plt.show()\n",
    "\n",
    "# Plot training & validation loss values\n",
    "plt.plot(training_history.history['loss'])\n",
    "plt.plot(training_history.history['val_loss'])\n",
    "plt.title('Model loss')\n",
    "plt.ylabel('Loss')\n",
    "plt.xlabel('Epoch')\n",
    "plt.legend(['Train', 'Validation'], loc='upper left')\n",
    "plt.show()"
   ]
  },
  {
   "cell_type": "markdown",
   "metadata": {},
   "source": [
    "### Precision, Recall, and F1 score for VGG16 model."
   ]
  },
  {
   "cell_type": "code",
   "execution_count": 30,
   "metadata": {
    "colab": {
     "base_uri": "https://localhost:8080/"
    },
    "executionInfo": {
     "elapsed": 201797,
     "status": "ok",
     "timestamp": 1702214195037,
     "user": {
      "displayName": "Rishi Kiran Reddy Nareddy",
      "userId": "13873111593550746672"
     },
     "user_tz": 480
    },
    "id": "rB1S9Tk4aQ9C",
    "outputId": "52f07470-8afe-40c5-8ff8-0634cf52d1f9"
   },
   "outputs": [
    {
     "name": "stdout",
     "output_type": "stream",
     "text": [
      "442/442 [==============================] - 163s 369ms/step - loss: 0.1452 - accuracy: 0.9515\n"
     ]
    },
    {
     "data": {
      "text/plain": [
       "[0.1451566219329834, 0.9514838457107544]"
      ]
     },
     "execution_count": 30,
     "metadata": {},
     "output_type": "execute_result"
    }
   ],
   "source": [
    "model_vgg.evaluate(tf_dataset_test_reshaped)"
   ]
  },
  {
   "cell_type": "code",
   "execution_count": 31,
   "metadata": {
    "colab": {
     "base_uri": "https://localhost:8080/"
    },
    "executionInfo": {
     "elapsed": 202066,
     "status": "ok",
     "timestamp": 1702214397100,
     "user": {
      "displayName": "Rishi Kiran Reddy Nareddy",
      "userId": "13873111593550746672"
     },
     "user_tz": 480
    },
    "id": "sMginNGIaQ_o",
    "outputId": "321e2f38-2fe0-48ff-b9a2-81b716b411ff"
   },
   "outputs": [
    {
     "name": "stdout",
     "output_type": "stream",
     "text": [
      "442/442 [==============================] - 168s 379ms/step\n"
     ]
    }
   ],
   "source": [
    "predictions = model_vgg.predict(tf_dataset_test_reshaped)\n",
    "predicted_classes = np.argmax(predictions, axis=1)"
   ]
  },
  {
   "cell_type": "code",
   "execution_count": 34,
   "metadata": {
    "colab": {
     "base_uri": "https://localhost:8080/"
    },
    "executionInfo": {
     "elapsed": 16,
     "status": "ok",
     "timestamp": 1702214560942,
     "user": {
      "displayName": "Rishi Kiran Reddy Nareddy",
      "userId": "13873111593550746672"
     },
     "user_tz": 480
    },
    "id": "GTo3iEqWaX4E",
    "outputId": "58f754a6-ecd6-43b0-c260-2b70e595c7ea"
   },
   "outputs": [
    {
     "name": "stdout",
     "output_type": "stream",
     "text": [
      "Precision: 0.6510332252836305\n",
      "Recall: 0.6995754871013389\n",
      "F1 Score: 0.6744320268639488\n"
     ]
    }
   ],
   "source": [
    "true_labels = np.concatenate([labels for _, labels in tf_dataset_test_reshaped], axis=0)\n",
    "true_labels_integer = np.argmax(true_labels, axis=1)\n",
    "\n",
    "precision = metrics.precision_score(true_labels_integer, predicted_classes)\n",
    "recall = metrics.recall_score(true_labels_integer, predicted_classes)\n",
    "f1 = metrics.f1_score(true_labels_integer, predicted_classes)\n",
    "\n",
    "print(\"Precision:\", precision)\n",
    "print(\"Recall:\", recall)\n",
    "print(\"F1 Score:\", f1)"
   ]
  },
  {
   "cell_type": "markdown",
   "metadata": {},
   "source": [
    "### Compare the results of transfer learning with those of CNN + MLP model and explain them.\n",
    "\n",
    "### Accuracy and Performance:\n",
    "- The CNN+MLP model achieved an accuracy of 76%, while the transfer learning models (EfficientNetB0, ResNet50, VGG16) may have demonstrated different but comparable or slightly better accuracy in certain cases.\n",
    "- Efficiency in using pre-trained features enables transfer learning models to excel in performance metrics.\n",
    "\n",
    "### Precision and Recall:\n",
    "- The transfer learning models, on average, showed a balanced performance between precision and recall for both classes (0 and 1).\n",
    "- CNN+MLP demonstrated higher precision for class 0 but slightly lower recall, which suggests it was better at correctly identifying class 0 instances but may have missed some actual class 0 instances.\n",
    "\n",
    "### F1 Score:\n",
    "- F1 scores (harmonic mean of precision and recall) for the transfer learning models are close, indicating a balanced trade-off between precision and recall.\n",
    "- CNN+MLP's F1-score, although competitive, might show some imbalance between precision and recall.\n",
    "\n",
    "### Explanation:\n",
    "- Transfer learning models leverage pre-trained features that have learned rich representations from a diverse dataset (ImageNet). This often provides a strong foundation for learning new tasks.\n",
    "- The CNN+MLP model, trained from scratch, might require more data and epochs to achieve similar performance due to the need to learn features from scratch.\n",
    "\n",
    "### Generalization and Data Efficiency:\n",
    "\n",
    "- Transfer learning models generally generalize better, requiring less data to achieve comparable performance. This is because they start with pre-trained weights that capture generic features from various images.\n",
    "- The CNN+MLP model might need more data and longer training to achieve the same level of performance due to the necessity to learn representations from the given dataset entirely.\n",
    "\n",
    "### In summary, transfer learning models tend to perform well due to their ability to leverage pre-trained features, resulting in better generalization and efficiency compared to CNN+MLP models trained from scratch, especially when the dataset size is limited."
   ]
  }
 ],
 "metadata": {
  "accelerator": "GPU",
  "colab": {
   "authorship_tag": "ABX9TyM/xCQxTq0pkao3nWGqhRS9",
   "gpuType": "T4",
   "mount_file_id": "1nMMM2_BxdMhbxjfNiEY7ji71ASWYSWnd",
   "provenance": []
  },
  "kernelspec": {
   "display_name": "Python 3 (ipykernel)",
   "language": "python",
   "name": "python3"
  },
  "language_info": {
   "codemirror_mode": {
    "name": "ipython",
    "version": 3
   },
   "file_extension": ".py",
   "mimetype": "text/x-python",
   "name": "python",
   "nbconvert_exporter": "python",
   "pygments_lexer": "ipython3",
   "version": "3.11.4"
  }
 },
 "nbformat": 4,
 "nbformat_minor": 1
}
